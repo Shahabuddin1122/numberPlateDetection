{
 "cells": [
  {
   "metadata": {},
   "cell_type": "markdown",
   "source": [
    "# This is a sample Jupyter Notebook\n",
    "\n",
    "Below is an example of a code cell. \n",
    "Put your cursor into the cell and press Shift+Enter to execute it and select the next one, or click !here goes the icon of the corresponding button in the gutter! button.\n",
    "To debug a cell, press Alt+Shift+Enter, or click !here goes the icon of the corresponding button in the gutter! button.\n",
    "\n",
    "Press Double Shift to search everywhere for classes, files, tool windows, actions, and settings.\n",
    "\n",
    "To learn more about Jupyter Notebooks in PyCharm, see [help](https://www.jetbrains.com/help/pycharm/jupyter-notebook-support.html).\n",
    "For an overview of PyCharm, go to Help -> Learn IDE features or refer to [our documentation](https://www.jetbrains.com/help/pycharm/getting-started.html)."
   ],
   "id": "8a77807f92f26ee"
  },
  {
   "metadata": {
    "ExecuteTime": {
     "end_time": "2024-10-14T19:02:00.404011Z",
     "start_time": "2024-10-14T19:01:54.152235Z"
    }
   },
   "cell_type": "code",
   "source": [
    "from ultralytics import YOLO\n",
    "import cv2"
   ],
   "id": "fbc121e30a2defb3",
   "outputs": [],
   "execution_count": 2
  },
  {
   "metadata": {
    "ExecuteTime": {
     "end_time": "2024-10-14T19:02:33.941626Z",
     "start_time": "2024-10-14T19:02:29.558369Z"
    }
   },
   "cell_type": "code",
   "source": "coco_model = YOLO('yolo11n.pt')",
   "id": "c531f3bb6c04e26b",
   "outputs": [
    {
     "name": "stdout",
     "output_type": "stream",
     "text": [
      "Downloading https://github.com/ultralytics/assets/releases/download/v8.3.0/yolo11n.pt to 'yolo11n.pt'...\n"
     ]
    },
    {
     "name": "stderr",
     "output_type": "stream",
     "text": [
      "100%|██████████| 5.35M/5.35M [00:02<00:00, 1.97MB/s]\n"
     ]
    }
   ],
   "execution_count": 3
  },
  {
   "metadata": {
    "ExecuteTime": {
     "end_time": "2024-10-14T19:52:58.388585Z",
     "start_time": "2024-10-14T19:52:58.336373Z"
    }
   },
   "cell_type": "code",
   "source": "cap = cv2.VideoCapture('./data/test.mp4')",
   "id": "6f543442344636aa",
   "outputs": [],
   "execution_count": 27
  },
  {
   "metadata": {
    "ExecuteTime": {
     "end_time": "2024-10-14T19:52:58.789100Z",
     "start_time": "2024-10-14T19:52:58.784221Z"
    }
   },
   "cell_type": "code",
   "source": "vehicles = [2,3,5,7]",
   "id": "f8a42fd57f00ab75",
   "outputs": [],
   "execution_count": 28
  },
  {
   "metadata": {
    "ExecuteTime": {
     "end_time": "2024-10-14T19:53:05.666301Z",
     "start_time": "2024-10-14T19:52:59.403667Z"
    }
   },
   "cell_type": "code",
   "source": [
    "frame_nmr = -1\n",
    "ret = True\n",
    "\n",
    "while ret:\n",
    "    frame_nmr += 1\n",
    "    ret, frame = cap.read()\n",
    "    if ret and frame_nmr < 10:\n",
    "        detections = coco_model(frame)[0]\n",
    "        detections_ = []\n",
    "        for detection in detections.boxes.data.tolist():\n",
    "            x1,y1,x2,y2,score,class_id = detection\n",
    "            if int(class_id) in vehicles:\n",
    "                detections_.append([x1, y1, x2, y2, score])"
   ],
   "id": "e838551e7f71a774",
   "outputs": [
    {
     "name": "stdout",
     "output_type": "stream",
     "text": [
      "\n",
      "0: 384x640 4 cars, 84.1ms\n",
      "Speed: 3.2ms preprocess, 84.1ms inference, 1.0ms postprocess per image at shape (1, 3, 384, 640)\n",
      "\n",
      "0: 384x640 4 cars, 72.1ms\n",
      "Speed: 5.0ms preprocess, 72.1ms inference, 1.0ms postprocess per image at shape (1, 3, 384, 640)\n",
      "\n",
      "0: 384x640 3 cars, 73.5ms\n",
      "Speed: 4.0ms preprocess, 73.5ms inference, 2.0ms postprocess per image at shape (1, 3, 384, 640)\n",
      "\n",
      "0: 384x640 4 cars, 71.0ms\n",
      "Speed: 4.2ms preprocess, 71.0ms inference, 1.0ms postprocess per image at shape (1, 3, 384, 640)\n",
      "\n",
      "0: 384x640 3 cars, 79.6ms\n",
      "Speed: 4.1ms preprocess, 79.6ms inference, 1.0ms postprocess per image at shape (1, 3, 384, 640)\n",
      "\n",
      "0: 384x640 3 cars, 75.6ms\n",
      "Speed: 4.0ms preprocess, 75.6ms inference, 1.0ms postprocess per image at shape (1, 3, 384, 640)\n",
      "\n",
      "0: 384x640 3 cars, 1 truck, 69.8ms\n",
      "Speed: 4.0ms preprocess, 69.8ms inference, 1.0ms postprocess per image at shape (1, 3, 384, 640)\n",
      "\n",
      "0: 384x640 3 cars, 1 truck, 72.5ms\n",
      "Speed: 4.4ms preprocess, 72.5ms inference, 1.0ms postprocess per image at shape (1, 3, 384, 640)\n",
      "\n",
      "0: 384x640 3 cars, 1 truck, 77.1ms\n",
      "Speed: 4.0ms preprocess, 77.1ms inference, 1.0ms postprocess per image at shape (1, 3, 384, 640)\n",
      "\n",
      "0: 384x640 3 cars, 1 truck, 66.6ms\n",
      "Speed: 3.6ms preprocess, 66.6ms inference, 1.0ms postprocess per image at shape (1, 3, 384, 640)\n"
     ]
    }
   ],
   "execution_count": 29
  },
  {
   "metadata": {
    "ExecuteTime": {
     "end_time": "2024-10-14T19:54:35.851437Z",
     "start_time": "2024-10-14T19:54:35.844882Z"
    }
   },
   "cell_type": "code",
   "source": "detections_",
   "id": "162d61981516724a",
   "outputs": [
    {
     "data": {
      "text/plain": [
       "[[1516.094970703125,\n",
       "  1.8147354125976562,\n",
       "  1828.459716796875,\n",
       "  141.1507110595703,\n",
       "  0.8657847046852112],\n",
       " [1012.596923828125,\n",
       "  0.5742645263671875,\n",
       "  1338.3687744140625,\n",
       "  253.4608154296875,\n",
       "  0.8649423718452454],\n",
       " [397.667724609375,\n",
       "  1.5336112976074219,\n",
       "  753.1036376953125,\n",
       "  320.63983154296875,\n",
       "  0.85919588804245],\n",
       " [1160.85986328125,\n",
       "  492.71722412109375,\n",
       "  1724.7628173828125,\n",
       "  1070.8551025390625,\n",
       "  0.3552769124507904]]"
      ]
     },
     "execution_count": 31,
     "metadata": {},
     "output_type": "execute_result"
    }
   ],
   "execution_count": 31
  },
  {
   "metadata": {},
   "cell_type": "code",
   "outputs": [],
   "execution_count": null,
   "source": "",
   "id": "340cc125c23781fa"
  }
 ],
 "metadata": {
  "kernelspec": {
   "display_name": "Python 3",
   "language": "python",
   "name": "python3"
  },
  "language_info": {
   "codemirror_mode": {
    "name": "ipython",
    "version": 2
   },
   "file_extension": ".py",
   "mimetype": "text/x-python",
   "name": "python",
   "nbconvert_exporter": "python",
   "pygments_lexer": "ipython2",
   "version": "2.7.6"
  }
 },
 "nbformat": 4,
 "nbformat_minor": 5
}
